{
 "cells": [
  {
   "cell_type": "markdown",
   "metadata": {},
   "source": [
    "#### Only ViT Encoder Part"
   ]
  },
  {
   "cell_type": "markdown",
   "metadata": {
    "vscode": {
     "languageId": "plaintext"
    }
   },
   "source": [
    "# Dependencies"
   ]
  },
  {
   "cell_type": "code",
   "execution_count": 5,
   "metadata": {},
   "outputs": [
    {
     "name": "stdout",
     "output_type": "stream",
     "text": [
      "Device: cuda\n"
     ]
    }
   ],
   "source": [
    "# important\n",
    "password = input(\"Enter Password:\")\n",
    "import numpy as np\n",
    "import matplotlib.pyplot as plt\n",
    "from tqdm import tqdm, trange\n",
    "from sklearn.metrics import r2_score\n",
    "from datetime import datetime\n",
    "\n",
    "# torch and utilities\n",
    "import torch\n",
    "import torch.nn as nn\n",
    "import torch.nn.functional as F\n",
    "from torch.utils.data import DataLoader, Dataset\n",
    "\n",
    "# supporting\n",
    "import os\n",
    "import gc\n",
    "import random\n",
    "\n",
    "# Setting up things\n",
    "torch.manual_seed(42)\n",
    "torch.cuda.manual_seed(42)\n",
    "torch.set_num_threads(20)\n",
    "device = torch.device('cuda' if torch.cuda.is_available() else 'cpu')\n",
    "print(\"Device:\",device)"
   ]
  },
  {
   "cell_type": "markdown",
   "metadata": {},
   "source": [
    "# Model Architecture"
   ]
  },
  {
   "cell_type": "code",
   "execution_count": 6,
   "metadata": {},
   "outputs": [],
   "source": [
    "class PatchEmbedding(nn.Module):\n",
    "    def __init__(self, patch_size=8, in_channels=1, emb_dim=128):\n",
    "        super(PatchEmbedding, self).__init__()\n",
    "        self.patch_size = patch_size\n",
    "        self.num_patches = (48 // patch_size) ** 3\n",
    "        self.proj = nn.Linear(patch_size**3 * in_channels, emb_dim)\n",
    "        self.pos_embed = nn.Parameter(torch.randn(1, self.num_patches, emb_dim))\n",
    "\n",
    "    def forward(self, x):\n",
    "        # x shape: (n, 1, 48, 48, 48)\n",
    "        n, c, d, h, w = x.shape\n",
    "        x = x.unfold(2, self.patch_size, self.patch_size).unfold(3, self.patch_size, self.patch_size).unfold(4, self.patch_size, self.patch_size)\n",
    "        x = x.contiguous().view(n, -1, c*self.patch_size**3)\n",
    "        x = self.proj(x)\n",
    "        x = x + self.pos_embed\n",
    "        return x\n",
    "    \n",
    "# output1 = PatchEmbedding()(input_cube)\n",
    "# print(output1.shape)\n",
    "\n",
    "class ParameterEmbedding(nn.Module):\n",
    "    def __init__(self, param_dim=3, emb_dim=128):\n",
    "        super(ParameterEmbedding, self).__init__()\n",
    "        self.fc = nn.Linear(param_dim, emb_dim)\n",
    "\n",
    "    def forward(self, params):\n",
    "        # params shape: (n, 3)\n",
    "        param_emb = self.fc(params)\n",
    "        return param_emb.unsqueeze(1)  # shape: (n, 1, emb_dim)\n",
    "    \n",
    "# output2 = ParameterEmbedding()(input_params)\n",
    "# print(output2.shape)\n",
    "\n",
    "class TransformerEncoderLayer(nn.Module):\n",
    "    def __init__(self, emb_dim=128, num_heads=8, ff_dim=256):\n",
    "        super(TransformerEncoderLayer, self).__init__()\n",
    "        self.self_attn = nn.MultiheadAttention(emb_dim, num_heads)\n",
    "        self.fc1 = nn.Linear(emb_dim, ff_dim)\n",
    "        self.fc2 = nn.Linear(ff_dim, emb_dim)\n",
    "        self.norm1 = nn.LayerNorm(emb_dim)\n",
    "        self.norm2 = nn.LayerNorm(emb_dim)\n",
    "\n",
    "    def forward(self, x):\n",
    "        attn_output, _ = self.self_attn(x, x, x)\n",
    "        x = x + attn_output\n",
    "        x = self.norm1(x)\n",
    "        ff_output = self.fc2(F.relu(self.fc1(x)))\n",
    "        x = x + ff_output\n",
    "        x = self.norm2(x)\n",
    "        return x\n",
    "\n",
    "# output3 = TransformerEncoderLayer()(output1)\n",
    "# print(output3.shape)\n",
    "\n",
    "class CosmoUiT(nn.Module):\n",
    "    def __init__(self, patch_size=6, emb_dim=128, num_heads=4, num_layers=4, param_dim=3):\n",
    "        super(CosmoUiT, self).__init__()\n",
    "        self.patch_embed = PatchEmbedding(patch_size, emb_dim=emb_dim)\n",
    "        self.param_embed = ParameterEmbedding(param_dim, emb_dim)\n",
    "        self.encoder_layers = nn.ModuleList([TransformerEncoderLayer(emb_dim, num_heads) for _ in range(num_layers)])\n",
    "        self.fc_out = nn.Linear(emb_dim, patch_size**3)\n",
    "\n",
    "    def forward(self, x, params):\n",
    "        x = self.patch_embed(x)\n",
    "        param_emb = self.param_embed(params)\n",
    "        x = torch.cat((param_emb, x), dim=1)  # Concatenate parameter embedding\n",
    "        for layer in self.encoder_layers:\n",
    "            x = layer(x)\n",
    "        x = self.fc_out(x)  # shape: (n, num_patches, patch_size^3)\n",
    "        x = self.reconstruct(x[:, 1:217, :])\n",
    "        return x\n",
    "    \n",
    "    def reconstruct(self, x):\n",
    "        n, num_patches, patch_dim = x.shape\n",
    "        patch_size = int(round(patch_dim ** (1/3)))\n",
    "        d = h = w = int(round(num_patches ** (1/3)))\n",
    "        x = x.view(n, d, h, w, patch_size, patch_size, patch_size)\n",
    "        x = x.permute(0, 1, 4, 2, 5, 3, 6).contiguous()\n",
    "        x = x.view(n, 1, d*patch_size, h*patch_size, w*patch_size)  # shape: (n, 1, 48, 48, 48)\n",
    "        return x\n",
    "\n",
    "model = CosmoUiT(patch_size=8, emb_dim=128, num_heads=8, num_layers=4, param_dim=3).to(device)\n",
    "# input_params = torch.randn(10,3).to(device)\n",
    "# output = model(input_halo, input_params)\n",
    "# print(output.shape)"
   ]
  },
  {
   "cell_type": "code",
   "execution_count": 7,
   "metadata": {},
   "outputs": [
    {
     "name": "stdout",
     "output_type": "stream",
     "text": [
      "input halo shape:  torch.Size([10, 1, 48, 48, 48])\n"
     ]
    }
   ],
   "source": [
    "# input halo: normalized already\n",
    "input_halo = torch.load('/media/disk2/prasad/TensorData/InputFields/Halo.pt', weights_only=False).to(device)\n",
    "print(\"input halo shape: \",input_halo.shape)\n",
    "\n",
    "# commented out since we are only using the halo at first\n",
    "# input dm: normalized already\n",
    "# assigned halo to save time\n",
    "# input_halo= torch.load('/media/disk2/prasad/TensorData/InputFields/DM.pt', weights_only=False).to(device)\n",
    "# print(\"input dm shape: \", input_halo.shape)"
   ]
  },
  {
   "cell_type": "code",
   "execution_count": 8,
   "metadata": {},
   "outputs": [],
   "source": [
    "# plt.imshow(halo[0][0][0], cmap='magma')\n",
    "# plt.colorbar()\n",
    "# plt.show()\n",
    "# plt.imshow(dm[0][0][0])\n",
    "# plt.show()"
   ]
  },
  {
   "cell_type": "markdown",
   "metadata": {},
   "source": [
    "# Training Model"
   ]
  },
  {
   "cell_type": "code",
   "execution_count": 9,
   "metadata": {},
   "outputs": [
    {
     "name": "stderr",
     "output_type": "stream",
     "text": [
      "Files:   0%|          | 0/576 [00:00<?, ?it/s]\n",
      "files:   0%|          | 0/144 [00:00<?, ?it/s]\n",
      "Epochs:  10%|█         | 1/10 [00:00<00:01,  5.29it/s]"
     ]
    },
    {
     "name": "stdout",
     "output_type": "stream",
     "text": [
      "Training Loss: 0.8531473875045776, Training R2: -3.228053092956543, Validation Loss: 0.7134206891059875, Validation R2: -2.870405673980713\n"
     ]
    },
    {
     "name": "stderr",
     "output_type": "stream",
     "text": [
      "Files:   0%|          | 0/576 [00:00<?, ?it/s]\n",
      "files:   0%|          | 0/144 [00:00<?, ?it/s]\n"
     ]
    },
    {
     "name": "stdout",
     "output_type": "stream",
     "text": [
      "Training Loss: 0.7132896184921265, Training R2: -2.534942388534546, Validation Loss: 0.5849802494049072, Validation R2: -2.1735994815826416\n"
     ]
    },
    {
     "name": "stderr",
     "output_type": "stream",
     "text": [
      "Files:   0%|          | 0/576 [00:00<?, ?it/s]\n",
      "files:   0%|          | 0/144 [00:00<?, ?it/s]\n"
     ]
    },
    {
     "name": "stdout",
     "output_type": "stream",
     "text": [
      "Training Loss: 0.5898005962371826, Training R2: -1.9229507446289062, Validation Loss: 0.47158607840538025, Validation R2: -1.5584197044372559\n"
     ]
    },
    {
     "name": "stderr",
     "output_type": "stream",
     "text": [
      "Files:   0%|          | 0/576 [00:00<?, ?it/s]\n",
      "files:   0%|          | 0/144 [00:00<?, ?it/s]\n"
     ]
    },
    {
     "name": "stdout",
     "output_type": "stream",
     "text": [
      "Training Loss: 0.48096680641174316, Training R2: -1.3835887908935547, Validation Loss: 0.3819746971130371, Validation R2: -1.0722651481628418\n"
     ]
    },
    {
     "name": "stderr",
     "output_type": "stream",
     "text": [
      "Files:   0%|          | 0/576 [00:00<?, ?it/s]\n",
      "files:   0%|          | 0/144 [00:00<?, ?it/s]\n",
      "Epochs:  50%|█████     | 5/10 [00:00<00:00, 16.03it/s]"
     ]
    },
    {
     "name": "stdout",
     "output_type": "stream",
     "text": [
      "Training Loss: 0.3946368992328644, Training R2: -0.9557533264160156, Validation Loss: 0.31687474250793457, Validation R2: -0.7190889120101929\n"
     ]
    },
    {
     "name": "stderr",
     "output_type": "stream",
     "text": [
      "Files:   0%|          | 0/576 [00:00<?, ?it/s]\n",
      "files:   0%|          | 0/144 [00:00<?, ?it/s]\n"
     ]
    },
    {
     "name": "stdout",
     "output_type": "stream",
     "text": [
      "Training Loss: 0.3315589427947998, Training R2: -0.6431493759155273, Validation Loss: 0.27154770493507385, Validation R2: -0.4731835126876831\n"
     ]
    },
    {
     "name": "stderr",
     "output_type": "stream",
     "text": [
      "Files:   0%|          | 0/576 [00:00<?, ?it/s]\n",
      "files:   0%|          | 0/144 [00:00<?, ?it/s]\n"
     ]
    },
    {
     "name": "stdout",
     "output_type": "stream",
     "text": [
      "Training Loss: 0.287505567073822, Training R2: -0.42482876777648926, Validation Loss: 0.24050597846508026, Validation R2: -0.30477821826934814\n"
     ]
    },
    {
     "name": "stderr",
     "output_type": "stream",
     "text": [
      "Files:   0%|          | 0/576 [00:00<?, ?it/s]\n",
      "files:   0%|          | 0/144 [00:00<?, ?it/s]\n",
      "Epochs:  80%|████████  | 8/10 [00:00<00:00, 20.55it/s]"
     ]
    },
    {
     "name": "stdout",
     "output_type": "stream",
     "text": [
      "Training Loss: 0.25740593671798706, Training R2: -0.2756596803665161, Validation Loss: 0.2200077772140503, Validation R2: -0.19357216358184814\n"
     ]
    },
    {
     "name": "stderr",
     "output_type": "stream",
     "text": [
      "Files:   0%|          | 0/576 [00:00<?, ?it/s]\n",
      "files:   0%|          | 0/144 [00:00<?, ?it/s]\n"
     ]
    },
    {
     "name": "stdout",
     "output_type": "stream",
     "text": [
      "Training Loss: 0.2376711517572403, Training R2: -0.1778576374053955, Validation Loss: 0.2076195627450943, Validation R2: -0.1263643503189087\n"
     ]
    },
    {
     "name": "stderr",
     "output_type": "stream",
     "text": [
      "Files:   0%|          | 0/576 [00:00<?, ?it/s]\n",
      "files:   0%|          | 0/144 [00:00<?, ?it/s]\n"
     ]
    },
    {
     "name": "stdout",
     "output_type": "stream",
     "text": [
      "Training Loss: 0.22586654126644135, Training R2: -0.11935591697692871, Validation Loss: 0.20131640136241913, Validation R2: -0.09216904640197754\n"
     ]
    },
    {
     "name": "stderr",
     "output_type": "stream",
     "text": [
      "Epochs: 100%|██████████| 10/10 [00:00<00:00, 18.80it/s]\n"
     ]
    }
   ],
   "source": [
    "criterion = nn.MSELoss()\n",
    "optimizer = torch.optim.Adam(model.parameters(), lr=0.001)\n",
    "\n",
    "num_epochs = 1000\n",
    "num_training_files = 576\n",
    "num_validation_files = 144\n",
    "\n",
    "training_loss = []\n",
    "training_r2 = []\n",
    "\n",
    "validation_loss = []\n",
    "validation_r2 = []\n",
    "\n",
    "# The model specifications must be edited everytime the model is saved\n",
    "ModelSpecification = f\"CosmoViT{num_epochs}\"\n",
    "folder_path = f'/media/disk1/prasad/codes/RefinedModelOutputs/{ModelSpecification}/'\n",
    "if not os.path.exists(folder_path):\n",
    "    os.mkdir(folder_path)\n",
    "\n",
    "\n",
    "training_start_time = datetime.now()\n",
    "\n",
    "for i in trange(num_epochs, desc='Epochs'):\n",
    "    model.train()\n",
    "    \n",
    "    train_batch_loss = 0.0\n",
    "    train_batch_r2 = 0.0\n",
    "    num_train_batches = 0\n",
    "    \n",
    "    for file in trange(num_training_files, desc='Files'):\n",
    "        optimizer.zero_grad()\n",
    "        \n",
    "        output_xHI = torch.load(f'/media/disk2/prasad/TensorData/OutputFields/Training/xHI{file}.pt', weights_only=False).to(device)\n",
    "        input_params =  torch.load(f'/media/disk2/prasad/TensorData/InputParams/Training/Params{file}.pt', weights_only=False).to(device)\n",
    "\n",
    "        prediction = model(input_halo, input_params)\n",
    "        loss = criterion(prediction, output_xHI)\n",
    "        loss.backward()\n",
    "        optimizer.step()\n",
    "\n",
    "        train_batch_loss+=loss.item()\n",
    "        r2 = r2_score(output_xHI.cpu().numpy().flatten(), prediction.cpu().detach().numpy().flatten())\n",
    "        train_batch_r2 += r2\n",
    "        num_train_batches += 1\n",
    "        # break #uncomment for trial run\n",
    "        \n",
    "    training_loss.append(train_batch_loss / num_train_batches)\n",
    "    training_r2.append(train_batch_r2 / num_train_batches)\n",
    "    \n",
    "    model.eval()\n",
    "    val_batch_loss = 0.0\n",
    "    val_batch_r2 = 0.0\n",
    "    num_val_batches = 0    \n",
    "    with torch.no_grad():\n",
    "        for file in trange(num_validation_files, desc='files'):\n",
    "            output_xHI = torch.load(f'/media/disk2/prasad/TensorData/OutputFields/Validation/xHI{file}.pt', weights_only=False).to(device)\n",
    "            input_params =  torch.load(f'/media/disk2/prasad/TensorData/InputParams/Validation/Params{file}.pt', weights_only=False).to(device)\n",
    "            \n",
    "            prediction = model(input_halo, input_params)\n",
    "            loss = criterion(prediction, output_xHI)\n",
    "            \n",
    "            val_batch_loss += loss.item()\n",
    "            r2 = r2_score(output_xHI.cpu().numpy().flatten(), prediction.cpu().detach().numpy().flatten())\n",
    "            val_batch_r2+=r2\n",
    "            num_val_batches += 1\n",
    "            # break #uncomment for trial run\n",
    "            \n",
    "    validation_loss.append(val_batch_loss / num_val_batches)\n",
    "    validation_r2.append(val_batch_r2 / num_val_batches)\n",
    "    # break #uncomment for trial run\n",
    "    \n",
    "    print(f\"Training Loss: {training_loss[-1]}, Training R2: {training_r2[-1]}, Validation Loss: {validation_loss[-1]}, Validation R2: {validation_r2[-1]}\")\n",
    "\n",
    "training_end_time = datetime.now()"
   ]
  },
  {
   "cell_type": "markdown",
   "metadata": {},
   "source": [
    "### Saving Objects\n",
    "1. Must be edited before each run\n",
    "2. Keep the model specification unique emphasizing the different model parameters for each model"
   ]
  },
  {
   "cell_type": "code",
   "execution_count": 6,
   "metadata": {},
   "outputs": [],
   "source": [
    "\n",
    "ModelTexts = f\"\"\"\n",
    "Model Specifications: {ModelSpecification}\n",
    "\n",
    "Type: UiT\n",
    "Dark Matter: False\n",
    "Halo: True\n",
    "\n",
    "Validation Loss: {validation_loss[-1]}\n",
    "Training Loss: {training_loss[-1]}\n",
    "\n",
    "Validation R2:{validation_r2[-1]}\n",
    "Training R2: {training_r2[-1]}\n",
    "\n",
    "Training Start Date & Time: {training_start_time}\n",
    "Training End Date & Time: {training_end_time}\n",
    "Training Duration:{training_end_time-training_start_time}\n",
    "\"\"\""
   ]
  },
  {
   "cell_type": "code",
   "execution_count": 7,
   "metadata": {},
   "outputs": [],
   "source": [
    "with open(f'{folder_path}/ModelSpecification.txt', 'w') as f:\n",
    "    f.write(ModelTexts)"
   ]
  },
  {
   "cell_type": "code",
   "execution_count": 8,
   "metadata": {},
   "outputs": [],
   "source": [
    "torch.save(model.state_dict(), f'{folder_path}/{ModelSpecification}.pth')\n",
    "np.save(f'{folder_path}/training_loss.npy', training_loss)\n",
    "np.save(f'{folder_path}/validation_loss.npy', validation_loss)\n",
    "np.save(f'{folder_path}/training_r2.npy', training_r2)\n",
    "np.save(f'{folder_path}/validation_r2.npy', validation_r2)"
   ]
  },
  {
   "cell_type": "code",
   "execution_count": 9,
   "metadata": {},
   "outputs": [
    {
     "data": {
      "image/png": "[encoded data removed]",
      "text/plain": [
       "<Figure size 800x600 with 1 Axes>"
      ]
     },
     "metadata": {},
     "output_type": "display_data"
    },
    {
     "data": {
      "image/png": "[encoded data removed]",
      "text/plain": [
       "<Figure size 800x600 with 1 Axes>"
      ]
     },
     "metadata": {},
     "output_type": "display_data"
    }
   ],
   "source": [
    "plt.figure(figsize=(8, 6))\n",
    "plt.plot(training_loss, label='Training Loss', color='blue', linewidth=2)\n",
    "plt.plot(validation_loss, label='Validation Loss', color='orange', linestyle='--', linewidth=2)\n",
    "plt.title('Training vs Validation Loss', fontsize=14)\n",
    "plt.xlabel('Epoch', fontsize=12)\n",
    "plt.ylabel('Loss', fontsize=12)\n",
    "plt.legend(loc='upper right', fontsize=10)\n",
    "plt.grid(True)\n",
    "plt.savefig(f'{folder_path}/loss_comparison.png', bbox_inches='tight', dpi=300)\n",
    "\n",
    "plt.figure(figsize=(8, 6))\n",
    "plt.plot(training_r2, label='Training R²', color='green', linewidth=2)\n",
    "plt.plot(validation_r2, label='Validation R²', color='red', linestyle='--', linewidth=2)\n",
    "plt.title('Training vs Validation R²', fontsize=14)\n",
    "plt.xlabel('Epoch', fontsize=12)\n",
    "plt.ylabel('R² Score', fontsize=12)\n",
    "plt.legend(loc='lower right', fontsize=10)\n",
    "plt.grid(True)\n",
    "plt.savefig(f'{folder_path}/r2_comparison.png', bbox_inches='tight', dpi=300)\n",
    "\n",
    "plt.show()"
   ]
  },
  {
   "cell_type": "code",
   "execution_count": 10,
   "metadata": {},
   "outputs": [],
   "source": [
    "from CosmoFuncs import notify\n",
    "notify(ModelTexts, password)"
   ]
  }
 ],
 "metadata": {
  "kernelspec": {
   "display_name": "emulator",
   "language": "python",
   "name": "python3"
  },
  "language_info": {
   "codemirror_mode": {
    "name": "ipython",
    "version": 3
   },
   "file_extension": ".py",
   "mimetype": "text/x-python",
   "name": "python",
   "nbconvert_exporter": "python",
   "pygments_lexer": "ipython3",
   "version": "3.12.5"
  }
 },
 "nbformat": 4,
 "nbformat_minor": 2
}
