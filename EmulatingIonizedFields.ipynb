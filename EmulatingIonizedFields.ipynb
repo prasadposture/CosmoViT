{
 "cells": [
  {
   "cell_type": "markdown",
   "id": "c8abf5c6",
   "metadata": {
    "_cell_guid": "b1076dfc-b9ad-4769-8c92-a6c4dae69d19",
    "_uuid": "8f2839f25d086af736a60e9eeb907d3b93b6e0e5",
    "papermill": {
     "duration": 0.004839,
     "end_time": "2024-08-07T15:54:42.297930",
     "exception": false,
     "start_time": "2024-08-07T15:54:42.293091",
     "status": "completed"
    },
    "tags": []
   },
   "source": [
    "# CNN Trial Architectures"
   ]
  },
  {
   "cell_type": "markdown",
   "id": "11a281a8",
   "metadata": {
    "papermill": {
     "duration": 0.003615,
     "end_time": "2024-08-07T15:54:42.305664",
     "exception": false,
     "start_time": "2024-08-07T15:54:42.302049",
     "status": "completed"
    },
    "tags": []
   },
   "source": [
    "## Importing Dependencies"
   ]
  },
  {
   "cell_type": "code",
   "execution_count": 1,
   "id": "7fb223cc",
   "metadata": {
    "execution": {
     "iopub.execute_input": "2024-08-07T15:54:42.315025Z",
     "iopub.status.busy": "2024-08-07T15:54:42.314303Z",
     "iopub.status.idle": "2024-08-07T15:54:46.710457Z",
     "shell.execute_reply": "2024-08-07T15:54:46.709637Z"
    },
    "papermill": {
     "duration": 4.403468,
     "end_time": "2024-08-07T15:54:46.712894",
     "exception": false,
     "start_time": "2024-08-07T15:54:42.309426",
     "status": "completed"
    },
    "tags": []
   },
   "outputs": [],
   "source": [
    "import numpy as np\n",
    "import matplotlib.pyplot as plt\n",
    "import torch\n",
    "import torch.nn as nn\n",
    "from torch.utils.data import Dataset, DataLoader, TensorDataset\n",
    "import torch.optim as optim\n",
    "import torch.nn.functional as F"
   ]
  },
  {
   "cell_type": "markdown",
   "id": "abbb56c0",
   "metadata": {
    "papermill": {
     "duration": 0.003817,
     "end_time": "2024-08-07T15:54:46.720910",
     "exception": false,
     "start_time": "2024-08-07T15:54:46.717093",
     "status": "completed"
    },
    "tags": []
   },
   "source": [
    "## Loading the data"
   ]
  },
  {
   "cell_type": "code",
   "execution_count": 2,
   "id": "fa240b44",
   "metadata": {
    "execution": {
     "iopub.execute_input": "2024-08-07T15:54:46.729664Z",
     "iopub.status.busy": "2024-08-07T15:54:46.729311Z",
     "iopub.status.idle": "2024-08-07T15:55:04.794386Z",
     "shell.execute_reply": "2024-08-07T15:55:04.793603Z"
    },
    "papermill": {
     "duration": 18.07198,
     "end_time": "2024-08-07T15:55:04.796674",
     "exception": false,
     "start_time": "2024-08-07T15:54:46.724694",
     "status": "completed"
    },
    "tags": []
   },
   "outputs": [],
   "source": [
    "cm21_maps = np.load('/kaggle/input/ionizedfields32/Preprocessed21cm.npz')['array']\n",
    "halo_maps = np.load('/kaggle/input/ionizedfields32/PreprocessedHalo.npz')['array']\n",
    "dm_maps = np.load('/kaggle/input/ionizedfields32/PreprocessedDM.npz')['array']"
   ]
  },
  {
   "cell_type": "code",
   "execution_count": 3,
   "id": "b247d5f1",
   "metadata": {
    "execution": {
     "iopub.execute_input": "2024-08-07T15:55:04.805957Z",
     "iopub.status.busy": "2024-08-07T15:55:04.805665Z",
     "iopub.status.idle": "2024-08-07T15:55:05.188380Z",
     "shell.execute_reply": "2024-08-07T15:55:05.184752Z"
    },
    "papermill": {
     "duration": 0.389882,
     "end_time": "2024-08-07T15:55:05.190728",
     "exception": false,
     "start_time": "2024-08-07T15:55:04.800846",
     "status": "completed"
    },
    "tags": []
   },
   "outputs": [
    {
     "data": {
      "image/png": "[encoded data removed]",
      "text/plain": [
       "<Figure size 1500x500 with 3 Axes>"
      ]
     },
     "metadata": {},
     "output_type": "display_data"
    }
   ],
   "source": [
    "import matplotlib.pyplot as plt\n",
    "\n",
    "fig, axs = plt.subplots(1, 3, figsize=(15, 5))\n",
    "\n",
    "# Display the images in subplots\n",
    "axs[0].imshow(halo_maps[43][0][13])\n",
    "axs[0].set_title('Halo Maps')\n",
    "\n",
    "axs[1].imshow(dm_maps[43][0][13])\n",
    "axs[1].set_title('DM Maps')\n",
    "\n",
    "axs[2].imshow(cm21_maps[43][0][13])\n",
    "axs[2].set_title('21cm Maps')\n",
    "\n",
    "# Remove axes for a cleaner look\n",
    "for ax in axs:\n",
    "    ax.axis('off')\n",
    "\n",
    "plt.tight_layout()\n",
    "plt.show()"
   ]
  },
  {
   "cell_type": "code",
   "execution_count": 4,
   "id": "7e39393c",
   "metadata": {
    "execution": {
     "iopub.execute_input": "2024-08-07T15:55:05.200924Z",
     "iopub.status.busy": "2024-08-07T15:55:05.200635Z",
     "iopub.status.idle": "2024-08-07T15:55:05.985174Z",
     "shell.execute_reply": "2024-08-07T15:55:05.984309Z"
    },
    "papermill": {
     "duration": 0.792425,
     "end_time": "2024-08-07T15:55:05.987664",
     "exception": false,
     "start_time": "2024-08-07T15:55:05.195239",
     "status": "completed"
    },
    "tags": []
   },
   "outputs": [],
   "source": [
    "# Converting to PyTorch tensors\n",
    "input_tensor = torch.tensor(halo_maps, dtype=torch.float32)\n",
    "output_tensor = torch.tensor(cm21_maps, dtype=torch.float32)\n",
    "\n",
    "# Creating a TensorDataset and DataLoader\n",
    "dataset = TensorDataset(input_tensor, output_tensor)\n",
    "batch_size = 100\n",
    "dataloader = DataLoader(dataset, batch_size=batch_size, shuffle=True, num_workers=4)"
   ]
  },
  {
   "cell_type": "markdown",
   "id": "83d0ab36",
   "metadata": {
    "papermill": {
     "duration": 0.004437,
     "end_time": "2024-08-07T15:55:05.997355",
     "exception": false,
     "start_time": "2024-08-07T15:55:05.992918",
     "status": "completed"
    },
    "tags": []
   },
   "source": [
    "## UNet Architecture"
   ]
  },
  {
   "cell_type": "code",
   "execution_count": 5,
   "id": "7966724b",
   "metadata": {
    "execution": {
     "iopub.execute_input": "2024-08-07T15:55:06.007182Z",
     "iopub.status.busy": "2024-08-07T15:55:06.006885Z",
     "iopub.status.idle": "2024-08-07T15:55:06.367019Z",
     "shell.execute_reply": "2024-08-07T15:55:06.366248Z"
    },
    "papermill": {
     "duration": 0.36766,
     "end_time": "2024-08-07T15:55:06.369345",
     "exception": false,
     "start_time": "2024-08-07T15:55:06.001685",
     "status": "completed"
    },
    "tags": []
   },
   "outputs": [
    {
     "name": "stdout",
     "output_type": "stream",
     "text": [
      "cuda\n"
     ]
    }
   ],
   "source": [
    "import torch\n",
    "import torch.nn as nn\n",
    "\n",
    "class UNet3D(nn.Module):\n",
    "    def __init__(self, in_channels, out_channels):\n",
    "        super(UNet3D, self).__init__()\n",
    "        \n",
    "        # Encoder\n",
    "        self.enc1 = nn.Sequential(\n",
    "            nn.Conv3d(in_channels, 64, kernel_size=3, padding=1),\n",
    "            nn.ReLU(inplace=True),\n",
    "            nn.Conv3d(64, 64, kernel_size=3, padding=1),\n",
    "            nn.ReLU(inplace=True)\n",
    "        )\n",
    "        self.enc2 = nn.Sequential(\n",
    "            nn.MaxPool3d(kernel_size=2),\n",
    "            nn.Conv3d(64, 128, kernel_size=3, padding=1),\n",
    "            nn.ReLU(inplace=True),\n",
    "            nn.Conv3d(128, 128, kernel_size=3, padding=1),\n",
    "            nn.ReLU(inplace=True)\n",
    "        )\n",
    "        \n",
    "        # Bottleneck\n",
    "        self.bottleneck = nn.Sequential(\n",
    "            nn.MaxPool3d(kernel_size=2),\n",
    "            nn.Conv3d(128, 256, kernel_size=3, padding=1),\n",
    "            nn.ReLU(inplace=True),\n",
    "            nn.Conv3d(256, 256, kernel_size=3, padding=1),\n",
    "            nn.ReLU(inplace=True),\n",
    "            nn.ConvTranspose3d(256, 128, kernel_size=2, stride=2)\n",
    "        )\n",
    "        \n",
    "        # Decoder\n",
    "        self.dec2 = nn.Sequential(\n",
    "            nn.Conv3d(256, 128, kernel_size=3, padding=1),\n",
    "            nn.ReLU(inplace=True),\n",
    "            nn.Conv3d(128, 128, kernel_size=3, padding=1),\n",
    "            nn.ReLU(inplace=True),\n",
    "            nn.ConvTranspose3d(128, 64, kernel_size=2, stride=2)\n",
    "        )\n",
    "        self.dec1 = nn.Sequential(\n",
    "            nn.Conv3d(128, 64, kernel_size=3, padding=1),\n",
    "            nn.ReLU(inplace=True),\n",
    "            nn.Conv3d(64, 64, kernel_size=3, padding=1),\n",
    "            nn.ReLU(inplace=True),\n",
    "            nn.Conv3d(64, out_channels, kernel_size=1)\n",
    "        )\n",
    "    \n",
    "    def forward(self, x):\n",
    "        # Encoder\n",
    "        enc1 = self.enc1(x)\n",
    "        enc2 = self.enc2(enc1)\n",
    "        \n",
    "        # Bottleneck\n",
    "        bottleneck = self.bottleneck(enc2)\n",
    "        \n",
    "        # Decoder with skip connections\n",
    "        dec2 = self.dec2(torch.cat((bottleneck, enc2), dim=1))\n",
    "        dec1 = self.dec1(torch.cat((dec2, enc1), dim=1))\n",
    "        \n",
    "        return dec1\n",
    "\n",
    "device = torch.device('cuda' if torch.cuda.is_available() else 'cpu')\n",
    "print(device)\n",
    "model = UNet3D(in_channels=1, out_channels=1).to(device)"
   ]
  },
  {
   "cell_type": "markdown",
   "id": "fc43b779",
   "metadata": {
    "papermill": {
     "duration": 0.004265,
     "end_time": "2024-08-07T15:55:06.378258",
     "exception": false,
     "start_time": "2024-08-07T15:55:06.373993",
     "status": "completed"
    },
    "tags": []
   },
   "source": [
    "## Training Process"
   ]
  },
  {
   "cell_type": "code",
   "execution_count": 6,
   "id": "aa56922a",
   "metadata": {
    "execution": {
     "iopub.execute_input": "2024-08-07T15:55:06.388870Z",
     "iopub.status.busy": "2024-08-07T15:55:06.388189Z",
     "iopub.status.idle": "2024-08-07T16:46:10.427751Z",
     "shell.execute_reply": "2024-08-07T16:46:10.426760Z"
    },
    "papermill": {
     "duration": 3064.051589,
     "end_time": "2024-08-07T16:46:10.434250",
     "exception": false,
     "start_time": "2024-08-07T15:55:06.382661",
     "status": "completed"
    },
    "tags": []
   },
   "outputs": [
    {
     "name": "stdout",
     "output_type": "stream",
     "text": [
      "Epoch 1/10, Train Loss: 0.4838, Val Loss: 0.2573, Train R^2: -0.9987, Val R^2: -0.0627\n",
      "Epoch 2/10, Train Loss: 0.2555, Val Loss: 0.2500, Train R^2: -0.0554, Val R^2: -0.0328\n",
      "Epoch 3/10, Train Loss: 0.2496, Val Loss: 0.2468, Train R^2: -0.0310, Val R^2: -0.0198\n",
      "Epoch 4/10, Train Loss: 0.2459, Val Loss: 0.2443, Train R^2: -0.0160, Val R^2: -0.0094\n",
      "Epoch 5/10, Train Loss: 0.2441, Val Loss: 0.2430, Train R^2: -0.0086, Val R^2: -0.0040\n",
      "Epoch 6/10, Train Loss: 0.2431, Val Loss: 0.2422, Train R^2: -0.0043, Val R^2: -0.0006\n",
      "Epoch 7/10, Train Loss: 0.2429, Val Loss: 0.2421, Train R^2: -0.0034, Val R^2: -0.0001\n",
      "Epoch 8/10, Train Loss: 0.2430, Val Loss: 0.2427, Train R^2: -0.0040, Val R^2: -0.0028\n",
      "Epoch 9/10, Train Loss: 0.2430, Val Loss: 0.2420, Train R^2: -0.0037, Val R^2: 0.0004\n",
      "Epoch 10/10, Train Loss: 0.2430, Val Loss: 0.2421, Train R^2: -0.0039, Val R^2: -0.0000\n"
     ]
    }
   ],
   "source": [
    "# Defining the loss and optimizer\n",
    "criterion = nn.MSELoss()\n",
    "optimizer = optim.Adam(model.parameters(), lr=0.001)\n",
    "\n",
    "# Splitting data into training and validation sets\n",
    "train_size = int(0.8 * len(dataset))\n",
    "val_size = len(dataset) - train_size\n",
    "train_dataset, val_dataset = torch.utils.data.random_split(dataset, [train_size, val_size])\n",
    "\n",
    "# Loading them into batches for more efficient RAM usage\n",
    "train_loader = DataLoader(train_dataset, batch_size=batch_size, shuffle=True)\n",
    "val_loader = DataLoader(val_dataset, batch_size=batch_size, shuffle=False)\n",
    "\n",
    "# Early stopping parameters: so that our training process stops the moment there is no improvement in the validation loss\n",
    "early_stopping_patience = 10 # these are number of times we will wait if our model improves (if its not improving)\n",
    "min_val_loss = float('inf') # initializing the min_val_loss\n",
    "patience_counter = 0 # number of times the validation loss didn't improve if it exceeds half the training process\n",
    "\n",
    "# Lists for saving losses and R^2 scores (we will use it later)\n",
    "train_losses = []\n",
    "val_losses = []\n",
    "train_r2_scores = []\n",
    "val_r2_scores = []\n",
    "\n",
    "# Training loop\n",
    "num_epochs = 10\n",
    "for epoch in range(num_epochs):\n",
    "    model.train()\n",
    "    train_loss = 0.0\n",
    "    for inputs, targets in train_loader:\n",
    "        inputs, targets = inputs.to(device), targets.to(device)\n",
    "        optimizer.zero_grad()\n",
    "        outputs = model(inputs)\n",
    "        loss = criterion(outputs, targets)\n",
    "        loss.backward()\n",
    "        optimizer.step()\n",
    "        train_loss += loss.item() * inputs.size(0)\n",
    "    \n",
    "    train_loss /= len(train_loader.dataset)\n",
    "    train_losses.append(train_loss)\n",
    "\n",
    "    # Validation loop\n",
    "    model.eval()\n",
    "    val_loss = 0.0\n",
    "    with torch.no_grad():\n",
    "        for inputs, targets in val_loader:\n",
    "            inputs, targets = inputs.to(device), targets.to(device)\n",
    "            outputs = model(inputs)\n",
    "            loss = criterion(outputs, targets)\n",
    "            val_loss += loss.item() * inputs.size(0)\n",
    "    \n",
    "    val_loss /= len(val_loader.dataset)\n",
    "    val_losses.append(val_loss)\n",
    "\n",
    "    # Calculating R^2 scores for training and validation sets\n",
    "    train_r2 = 1 - (train_loss / np.var(output_tensor.numpy()))\n",
    "    val_r2 = 1 - (val_loss / np.var(output_tensor.numpy()))\n",
    "    train_r2_scores.append(train_r2)\n",
    "    val_r2_scores.append(val_r2)\n",
    "\n",
    "    print(f'Epoch {epoch+1}/{num_epochs}, Train Loss: {train_loss:.4f}, Val Loss: {val_loss:.4f}, Train R^2: {train_r2:.4f}, Val R^2: {val_r2:.4f}')\n",
    "\n",
    "    # Early stopping\n",
    "    if val_loss < min_val_loss:\n",
    "        min_val_loss = val_loss\n",
    "        patience_counter = 0\n",
    "        # Saving the model with the best validation loss\n",
    "        torch.save(model.state_dict(), 'best_model.pth') # it does slows the process of a bit, but still better than unnecessary epochs that will consume GPU\n",
    "    else:\n",
    "        patience_counter += 1\n",
    "        if patience_counter >= early_stopping_patience:\n",
    "            print(\"Early stopping\")\n",
    "            break"
   ]
  },
  {
   "cell_type": "code",
   "execution_count": 7,
   "id": "9d51f828",
   "metadata": {
    "execution": {
     "iopub.execute_input": "2024-08-07T16:46:10.446187Z",
     "iopub.status.busy": "2024-08-07T16:46:10.445783Z",
     "iopub.status.idle": "2024-08-07T16:46:11.138614Z",
     "shell.execute_reply": "2024-08-07T16:46:11.137713Z"
    },
    "papermill": {
     "duration": 0.701294,
     "end_time": "2024-08-07T16:46:11.140969",
     "exception": false,
     "start_time": "2024-08-07T16:46:10.439675",
     "status": "completed"
    },
    "tags": []
   },
   "outputs": [
    {
     "data": {
      "image/png": "[encoded data removed]",
      "text/plain": [
       "<Figure size 1000x400 with 2 Axes>"
      ]
     },
     "metadata": {},
     "output_type": "display_data"
    }
   ],
   "source": [
    "fig, ax = plt.subplots(1, 2, figsize=(10, 4))\n",
    "\n",
    "# Plotting training and validation losses with dots\n",
    "ax[0].plot(range(len(train_losses)), train_losses, label='Training Loss', marker='o')\n",
    "ax[0].plot(range(len(val_losses)), val_losses, label='Validation Loss', marker='o')\n",
    "ax[0].set_title('Variation in Loss')\n",
    "ax[0].set_xlabel('Epochs')\n",
    "ax[0].set_ylabel('Loss')\n",
    "ax[0].legend()\n",
    "\n",
    "# Plotting training and validation R^2 scores with dots\n",
    "ax[1].plot(range(len(train_r2_scores)), train_r2_scores, label='Training $R^2$', marker='o')\n",
    "ax[1].plot(range(len(val_r2_scores)), val_r2_scores, label='Validation $R^2$', marker='o')\n",
    "ax[1].set_title('Variation in $R^2$')\n",
    "ax[1].set_xlabel('Epochs')\n",
    "ax[1].set_ylabel('$R^2$ Score')\n",
    "ax[1].legend()\n",
    "\n",
    "plt.tight_layout()\n",
    "plt.show()"
   ]
  },
  {
   "cell_type": "markdown",
   "id": "afdad066",
   "metadata": {
    "papermill": {
     "duration": 0.005494,
     "end_time": "2024-08-07T16:46:11.152337",
     "exception": false,
     "start_time": "2024-08-07T16:46:11.146843",
     "status": "completed"
    },
    "tags": []
   },
   "source": [
    "The End"
   ]
  }
 ],
 "metadata": {
  "kaggle": {
   "accelerator": "nvidiaTeslaT4",
   "dataSources": [
    {
     "datasetId": 5424111,
     "sourceId": 9003730,
     "sourceType": "datasetVersion"
    },
    {
     "datasetId": 5509063,
     "sourceId": 9125284,
     "sourceType": "datasetVersion"
    }
   ],
   "dockerImageVersionId": 30746,
   "isGpuEnabled": true,
   "isInternetEnabled": true,
   "language": "python",
   "sourceType": "notebook"
  },
  "kernelspec": {
   "display_name": "Python 3",
   "language": "python",
   "name": "python3"
  },
  "language_info": {
   "codemirror_mode": {
    "name": "ipython",
    "version": 3
   },
   "file_extension": ".py",
   "mimetype": "text/x-python",
   "name": "python",
   "nbconvert_exporter": "python",
   "pygments_lexer": "ipython3",
   "version": "3.10.13"
  },
  "papermill": {
   "default_parameters": {},
   "duration": 3093.605129,
   "end_time": "2024-08-07T16:46:12.886821",
   "environment_variables": {},
   "exception": null,
   "input_path": "__notebook__.ipynb",
   "output_path": "__notebook__.ipynb",
   "parameters": {},
   "start_time": "2024-08-07T15:54:39.281692",
   "version": "2.5.0"
  }
 },
 "nbformat": 4,
 "nbformat_minor": 5
}
